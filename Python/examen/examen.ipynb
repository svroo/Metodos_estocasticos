{
 "cells": [
  {
   "cell_type": "code",
   "execution_count": 2,
   "metadata": {},
   "outputs": [],
   "source": [
    "# Transformacion de datos\n",
    "# Created by: Rodrigo Salazar\n",
    "\n",
    "# ------------- Librerias a utilizar -------------\n",
    "import numpy as np\n",
    "import seaborn as sns\n",
    "import matplotlib.pyplot as plt"
   ]
  },
  {
   "cell_type": "code",
   "execution_count": 23,
   "metadata": {},
   "outputs": [
    {
     "data": {
      "image/png": "[encoded data removed]",
      "text/plain": [
       "<Figure size 1152x504 with 2 Axes>"
      ]
     },
     "metadata": {
      "needs_background": "light"
     },
     "output_type": "display_data"
    }
   ],
   "source": [
    "# Obtenemos los datos de una distribución uniforme\n",
    "datos = np.random.uniform(low=0, high= 2, size=1000000)\n",
    "\n",
    "# Creamos una lista donde se almacenan los datos\n",
    "g = np.zeros_like(datos)\n",
    "\n",
    "# Comenzamos a recorrer los datos\n",
    "for i, dato in enumerate(datos):\n",
    "    if 0 <= dato <= 2:\n",
    "        # f.append(np.sqrt(2 * dato))\n",
    "        g[i] = np.sqrt(2 * dato)\n",
    "    else:\n",
    "        g[i] = 0\n",
    "\n",
    "# Graficamos los datos transformados y los originales\n",
    "fig, (ax, ax2) = plt.subplots(ncols=2, figsize=(16,7))\n",
    "sns.histplot(datos, ax=ax)\n",
    "ax.set_title('Datos originales')\n",
    "ax.set_xlabel('Valores de x')\n",
    "ax.set_ylabel('Conteo de valores')\n",
    "\n",
    "# Grafico de la transformación\n",
    "sns.histplot(g, ax=ax2)\n",
    "ax2.set_title(\"transformacion\")\n",
    "ax2.set_xlabel('Valores de x')\n",
    "ax2.set_ylabel('Conteo de valores')\n",
    "plt.show()\n"
   ]
  },
  {
   "cell_type": "code",
   "execution_count": 24,
   "metadata": {},
   "outputs": [
    {
     "name": "stdout",
     "output_type": "stream",
     "text": [
      "El promedio de lanzamientos necesarios es: 13.911\n"
     ]
    }
   ],
   "source": [
    "import random\n",
    "\n",
    "def promedio_lanzamientos(num_lanzamientos = 10000):\n",
    "    \"\"\"promedio_lanzamientos\n",
    "    Simulación de lanzar monedas para obtener 3 caras seguidas\n",
    "\n",
    "    Args:\n",
    "        num_lanzamientos (int, optional): numero de veces que se van a simular . Defaults to 10000.\n",
    "\n",
    "    Returns:\n",
    "        _type_: _description_\n",
    "    \"\"\"\n",
    "    lanzamientos = 0\n",
    "    num_experimentos = num_lanzamientos\n",
    "    caras_seguidas = 0\n",
    "\n",
    "    for _ in range(num_experimentos):\n",
    "        while caras_seguidas < 3:\n",
    "            lanzamiento = random.choice(['C', 'S'])\n",
    "            lanzamientos += 1\n",
    "            if lanzamiento == 'C':\n",
    "                caras_seguidas += 1\n",
    "            else:\n",
    "                caras_seguidas = 0\n",
    "\n",
    "        caras_seguidas = 0\n",
    "\n",
    "    return lanzamientos / num_experimentos\n",
    "\n",
    "promedio = promedio_lanzamientos()\n",
    "print(\"El promedio de lanzamientos necesarios es:\", promedio)\n"
   ]
  },
  {
   "cell_type": "code",
   "execution_count": 25,
   "metadata": {},
   "outputs": [
    {
     "name": "stdout",
     "output_type": "stream",
     "text": [
      "El promedio de lanzamientos necesarios es: 13.9709\n"
     ]
    }
   ],
   "source": [
    "import random\n",
    "\n",
    "def promedio_lanzamientos():\n",
    "    num_experimentos = 10000\n",
    "    total_lanzamientos = 0\n",
    "\n",
    "    for _ in range(num_experimentos):\n",
    "        lanzamientos = 0\n",
    "        caras_seguidas = 0\n",
    "\n",
    "        while caras_seguidas < 3:\n",
    "            lanzamiento = random.choice(['C', 'S'])\n",
    "            lanzamientos += 1\n",
    "            if lanzamiento == 'C':\n",
    "                caras_seguidas += 1\n",
    "            else:\n",
    "                caras_seguidas = 0\n",
    "\n",
    "        total_lanzamientos += lanzamientos\n",
    "\n",
    "    promedio = total_lanzamientos / num_experimentos\n",
    "    return promedio\n",
    "\n",
    "promedio = promedio_lanzamientos()\n",
    "print(\"El promedio de lanzamientos necesarios es:\", promedio)\n"
   ]
  }
 ],
 "metadata": {
  "kernelspec": {
   "display_name": "Python 3",
   "language": "python",
   "name": "python3"
  },
  "language_info": {
   "codemirror_mode": {
    "name": "ipython",
    "version": 3
   },
   "file_extension": ".py",
   "mimetype": "text/x-python",
   "name": "python",
   "nbconvert_exporter": "python",
   "pygments_lexer": "ipython3",
   "version": "3.10.11"
  },
  "orig_nbformat": 4
 },
 "nbformat": 4,
 "nbformat_minor": 2
}
